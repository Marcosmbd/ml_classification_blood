{
 "cells": [
  {
   "cell_type": "markdown",
   "metadata": {},
   "source": [
    "##### IMPORTANDO BIBLIOTECAS/MÓDULOS"
   ]
  },
  {
   "cell_type": "code",
   "execution_count": 87,
   "metadata": {},
   "outputs": [],
   "source": [
    "import pandas as pd\n",
    "import numpy as np\n",
    "import seaborn as sns\n",
    "import matplotlib.pyplot as plt\n",
    "from pycaret.datasets import get_data\n",
    "import joblib\n",
    "from sklearn.preprocessing import MinMaxScaler\n",
    "from sklearn.metrics import classification_report, confusion_matrix, accuracy_score, recall_score\n",
    "from sklearn.model_selection import train_test_split\n",
    "from sklearn.ensemble import RandomForestClassifier, ExtraTreesClassifier, AdaBoostClassifier, GradientBoostingClassifier, HistGradientBoostingClassifier\n",
    "from sklearn.tree import DecisionTreeClassifier\n",
    "from sklearn.naive_bayes import GaussianNB\n",
    "from sklearn.neighbors import KNeighborsClassifier\n",
    "from sklearn.svm import SVC\n",
    "from sklearn.neural_network import MLPClassifier\n",
    "\n",
    "import warnings"
   ]
  },
  {
   "cell_type": "markdown",
   "metadata": {},
   "source": [
    "##### ANALISANDO DATASET"
   ]
  },
  {
   "cell_type": "code",
   "execution_count": null,
   "metadata": {},
   "outputs": [],
   "source": [
    "warnings.filterwarnings('ignore')\n",
    "df = get_data('blood')\n",
    "\n",
    "plt.figure(figsize=[20,4])\n",
    "\n",
    "for i, coluna in enumerate(df.columns):\n",
    "    plt.subplot(1,len(df.columns),i+1)\n",
    "    plt.boxplot(df[coluna])\n",
    "    plt.title(coluna)\n",
    "\n",
    "plt.show()"
   ]
  },
  {
   "cell_type": "markdown",
   "metadata": {},
   "source": [
    "##### REMOVENDO OUTLIERS"
   ]
  },
  {
   "cell_type": "code",
   "execution_count": null,
   "metadata": {},
   "outputs": [],
   "source": [
    "df = df.loc[df['Recency']<30]\n",
    "df = df.loc[df['Frequency']<30]\n",
    "\n",
    "plt.figure(figsize=[20,4])\n",
    "\n",
    "for i, coluna in enumerate(df.columns):\n",
    "    plt.subplot(1,len(df.columns),i+1)\n",
    "    plt.boxplot(df[coluna])\n",
    "    plt.title(coluna)\n",
    "\n",
    "plt.show()"
   ]
  },
  {
   "cell_type": "markdown",
   "metadata": {},
   "source": [
    "##### DEFININDO BASES DE TREINO E DE TESTE"
   ]
  },
  {
   "cell_type": "code",
   "execution_count": null,
   "metadata": {},
   "outputs": [],
   "source": [
    "numeric = MinMaxScaler()\n",
    "\n",
    "X = numeric.fit_transform(df.drop('Class', axis=1))\n",
    "y = df['Class']\n",
    "\n",
    "X_train, X_test, y_train, y_test = train_test_split(X,y, test_size=0.20, random_state=42)\n",
    "\n",
    "print(X_train.shape)\n",
    "print(X_test.shape)\n",
    "print(y_train.shape)\n",
    "print(y_test.shape)"
   ]
  },
  {
   "cell_type": "markdown",
   "metadata": {},
   "source": [
    "##### AVALIANDO MODELOS"
   ]
  },
  {
   "cell_type": "code",
   "execution_count": null,
   "metadata": {},
   "outputs": [],
   "source": [
    "models = [RandomForestClassifier(max_depth=5, n_estimators=500),\n",
    "          ExtraTreesClassifier(max_depth=5, n_estimators=500),\n",
    "          MLPClassifier(solver='lbfgs'),\n",
    "          MLPClassifier(solver='sgd'),\n",
    "          KNeighborsClassifier(n_neighbors=5),\n",
    "          GaussianNB(),\n",
    "          SVC(kernel='sigmoid'),\n",
    "          AdaBoostClassifier(),\n",
    "          GradientBoostingClassifier(),\n",
    "          HistGradientBoostingClassifier(),\n",
    "          DecisionTreeClassifier(max_depth=5)]\n",
    "\n",
    "lista_modelos = []\n",
    "\n",
    "for model in models:\n",
    "    model.fit(X_train, y_train)\n",
    "    teste = model.predict(X_test)\n",
    "\n",
    "    acuracia = np.round(accuracy_score(y_test, teste)*100,2)\n",
    "\n",
    "    lista_modelos.append((model, acuracia))\n",
    "\n",
    "    print(model)\n",
    "    print(classification_report(y_test, teste))\n",
    "\n",
    "    sns.heatmap(confusion_matrix(teste, y_test), annot=True, fmt='.0f')\n",
    "    plt.xlabel('Predição')\n",
    "    plt.ylabel('Real')\n",
    "    plt.title(str(model) + ' - Teste')\n",
    "\n",
    "    plt.show()\n",
    "\n",
    "result = pd.DataFrame(lista_modelos, columns=['Modelo', 'Acuracia'])\n",
    "result = result.sort_values('Acuracia', ascending=False)\n",
    "display(result)"
   ]
  },
  {
   "cell_type": "markdown",
   "metadata": {},
   "source": [
    "##### SALVANDO MODELOS"
   ]
  },
  {
   "cell_type": "code",
   "execution_count": null,
   "metadata": {},
   "outputs": [],
   "source": [
    "joblib.dump(model,r'model.pkl')\n",
    "joblib.dump(numeric,r'numeric.joblib')"
   ]
  },
  {
   "cell_type": "markdown",
   "metadata": {},
   "source": [
    "##### CARREGANDO MODELOS"
   ]
  },
  {
   "cell_type": "code",
   "execution_count": null,
   "metadata": {},
   "outputs": [],
   "source": [
    "model = joblib.load(r'model.pkl')\n",
    "numeric = joblib.load(r'numeric.joblib')"
   ]
  }
 ],
 "metadata": {
  "kernelspec": {
   "display_name": "base2",
   "language": "python",
   "name": "python3"
  },
  "language_info": {
   "codemirror_mode": {
    "name": "ipython",
    "version": 3
   },
   "file_extension": ".py",
   "mimetype": "text/x-python",
   "name": "python",
   "nbconvert_exporter": "python",
   "pygments_lexer": "ipython3",
   "version": "3.10.11"
  },
  "orig_nbformat": 4
 },
 "nbformat": 4,
 "nbformat_minor": 2
}
